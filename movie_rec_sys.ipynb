{
  "nbformat": 4,
  "nbformat_minor": 0,
  "metadata": {
    "colab": {
      "provenance": [],
      "gpuType": "T4"
    },
    "kernelspec": {
      "name": "python3",
      "display_name": "Python 3"
    },
    "language_info": {
      "name": "python"
    },
    "accelerator": "GPU"
  },
  "cells": [
    {
      "cell_type": "code",
      "execution_count": 21,
      "metadata": {
        "colab": {
          "base_uri": "https://localhost:8080/",
          "height": 142
        },
        "id": "ygdZ15vwnfQH",
        "outputId": "e1fc32e3-6f6a-412f-e0c2-1f4892739e72"
      },
      "outputs": [
        {
          "output_type": "error",
          "ename": "SyntaxError",
          "evalue": "invalid syntax (<ipython-input-21-a2462e96cd8a>, line 1)",
          "traceback": [
            "\u001b[0;36m  File \u001b[0;32m\"<ipython-input-21-a2462e96cd8a>\"\u001b[0;36m, line \u001b[0;32m1\u001b[0m\n\u001b[0;31m    curl http://files.grouplens.org/datasets/movielens/ml-latest-small.zip -o ml-latest-small.zip\u001b[0m\n\u001b[0m         ^\u001b[0m\n\u001b[0;31mSyntaxError\u001b[0m\u001b[0;31m:\u001b[0m invalid syntax\n"
          ]
        }
      ],
      "source": [
        "\n",
        "!curl http://files.grouplens.org/datasets/movielens/ml-latest-small.zip -o ml-latest-small.zip\n"
      ]
    },
    {
      "cell_type": "code",
      "source": [
        "from google.colab import files\n",
        "uploaded = files.upload()\n"
      ],
      "metadata": {
        "colab": {
          "base_uri": "https://localhost:8080/",
          "height": 39
        },
        "id": "SabAAk-Yuxl_",
        "outputId": "f5a10132-7c60-45ec-d578-24f7a6cbc166"
      },
      "execution_count": 22,
      "outputs": [
        {
          "output_type": "display_data",
          "data": {
            "text/plain": [
              "<IPython.core.display.HTML object>"
            ],
            "text/html": [
              "\n",
              "     <input type=\"file\" id=\"files-dba52ed6-95dc-44da-91cc-f7978557a7b5\" name=\"files[]\" multiple disabled\n",
              "        style=\"border:none\" />\n",
              "     <output id=\"result-dba52ed6-95dc-44da-91cc-f7978557a7b5\">\n",
              "      Upload widget is only available when the cell has been executed in the\n",
              "      current browser session. Please rerun this cell to enable.\n",
              "      </output>\n",
              "      <script>// Copyright 2017 Google LLC\n",
              "//\n",
              "// Licensed under the Apache License, Version 2.0 (the \"License\");\n",
              "// you may not use this file except in compliance with the License.\n",
              "// You may obtain a copy of the License at\n",
              "//\n",
              "//      http://www.apache.org/licenses/LICENSE-2.0\n",
              "//\n",
              "// Unless required by applicable law or agreed to in writing, software\n",
              "// distributed under the License is distributed on an \"AS IS\" BASIS,\n",
              "// WITHOUT WARRANTIES OR CONDITIONS OF ANY KIND, either express or implied.\n",
              "// See the License for the specific language governing permissions and\n",
              "// limitations under the License.\n",
              "\n",
              "/**\n",
              " * @fileoverview Helpers for google.colab Python module.\n",
              " */\n",
              "(function(scope) {\n",
              "function span(text, styleAttributes = {}) {\n",
              "  const element = document.createElement('span');\n",
              "  element.textContent = text;\n",
              "  for (const key of Object.keys(styleAttributes)) {\n",
              "    element.style[key] = styleAttributes[key];\n",
              "  }\n",
              "  return element;\n",
              "}\n",
              "\n",
              "// Max number of bytes which will be uploaded at a time.\n",
              "const MAX_PAYLOAD_SIZE = 100 * 1024;\n",
              "\n",
              "function _uploadFiles(inputId, outputId) {\n",
              "  const steps = uploadFilesStep(inputId, outputId);\n",
              "  const outputElement = document.getElementById(outputId);\n",
              "  // Cache steps on the outputElement to make it available for the next call\n",
              "  // to uploadFilesContinue from Python.\n",
              "  outputElement.steps = steps;\n",
              "\n",
              "  return _uploadFilesContinue(outputId);\n",
              "}\n",
              "\n",
              "// This is roughly an async generator (not supported in the browser yet),\n",
              "// where there are multiple asynchronous steps and the Python side is going\n",
              "// to poll for completion of each step.\n",
              "// This uses a Promise to block the python side on completion of each step,\n",
              "// then passes the result of the previous step as the input to the next step.\n",
              "function _uploadFilesContinue(outputId) {\n",
              "  const outputElement = document.getElementById(outputId);\n",
              "  const steps = outputElement.steps;\n",
              "\n",
              "  const next = steps.next(outputElement.lastPromiseValue);\n",
              "  return Promise.resolve(next.value.promise).then((value) => {\n",
              "    // Cache the last promise value to make it available to the next\n",
              "    // step of the generator.\n",
              "    outputElement.lastPromiseValue = value;\n",
              "    return next.value.response;\n",
              "  });\n",
              "}\n",
              "\n",
              "/**\n",
              " * Generator function which is called between each async step of the upload\n",
              " * process.\n",
              " * @param {string} inputId Element ID of the input file picker element.\n",
              " * @param {string} outputId Element ID of the output display.\n",
              " * @return {!Iterable<!Object>} Iterable of next steps.\n",
              " */\n",
              "function* uploadFilesStep(inputId, outputId) {\n",
              "  const inputElement = document.getElementById(inputId);\n",
              "  inputElement.disabled = false;\n",
              "\n",
              "  const outputElement = document.getElementById(outputId);\n",
              "  outputElement.innerHTML = '';\n",
              "\n",
              "  const pickedPromise = new Promise((resolve) => {\n",
              "    inputElement.addEventListener('change', (e) => {\n",
              "      resolve(e.target.files);\n",
              "    });\n",
              "  });\n",
              "\n",
              "  const cancel = document.createElement('button');\n",
              "  inputElement.parentElement.appendChild(cancel);\n",
              "  cancel.textContent = 'Cancel upload';\n",
              "  const cancelPromise = new Promise((resolve) => {\n",
              "    cancel.onclick = () => {\n",
              "      resolve(null);\n",
              "    };\n",
              "  });\n",
              "\n",
              "  // Wait for the user to pick the files.\n",
              "  const files = yield {\n",
              "    promise: Promise.race([pickedPromise, cancelPromise]),\n",
              "    response: {\n",
              "      action: 'starting',\n",
              "    }\n",
              "  };\n",
              "\n",
              "  cancel.remove();\n",
              "\n",
              "  // Disable the input element since further picks are not allowed.\n",
              "  inputElement.disabled = true;\n",
              "\n",
              "  if (!files) {\n",
              "    return {\n",
              "      response: {\n",
              "        action: 'complete',\n",
              "      }\n",
              "    };\n",
              "  }\n",
              "\n",
              "  for (const file of files) {\n",
              "    const li = document.createElement('li');\n",
              "    li.append(span(file.name, {fontWeight: 'bold'}));\n",
              "    li.append(span(\n",
              "        `(${file.type || 'n/a'}) - ${file.size} bytes, ` +\n",
              "        `last modified: ${\n",
              "            file.lastModifiedDate ? file.lastModifiedDate.toLocaleDateString() :\n",
              "                                    'n/a'} - `));\n",
              "    const percent = span('0% done');\n",
              "    li.appendChild(percent);\n",
              "\n",
              "    outputElement.appendChild(li);\n",
              "\n",
              "    const fileDataPromise = new Promise((resolve) => {\n",
              "      const reader = new FileReader();\n",
              "      reader.onload = (e) => {\n",
              "        resolve(e.target.result);\n",
              "      };\n",
              "      reader.readAsArrayBuffer(file);\n",
              "    });\n",
              "    // Wait for the data to be ready.\n",
              "    let fileData = yield {\n",
              "      promise: fileDataPromise,\n",
              "      response: {\n",
              "        action: 'continue',\n",
              "      }\n",
              "    };\n",
              "\n",
              "    // Use a chunked sending to avoid message size limits. See b/62115660.\n",
              "    let position = 0;\n",
              "    do {\n",
              "      const length = Math.min(fileData.byteLength - position, MAX_PAYLOAD_SIZE);\n",
              "      const chunk = new Uint8Array(fileData, position, length);\n",
              "      position += length;\n",
              "\n",
              "      const base64 = btoa(String.fromCharCode.apply(null, chunk));\n",
              "      yield {\n",
              "        response: {\n",
              "          action: 'append',\n",
              "          file: file.name,\n",
              "          data: base64,\n",
              "        },\n",
              "      };\n",
              "\n",
              "      let percentDone = fileData.byteLength === 0 ?\n",
              "          100 :\n",
              "          Math.round((position / fileData.byteLength) * 100);\n",
              "      percent.textContent = `${percentDone}% done`;\n",
              "\n",
              "    } while (position < fileData.byteLength);\n",
              "  }\n",
              "\n",
              "  // All done.\n",
              "  yield {\n",
              "    response: {\n",
              "      action: 'complete',\n",
              "    }\n",
              "  };\n",
              "}\n",
              "\n",
              "scope.google = scope.google || {};\n",
              "scope.google.colab = scope.google.colab || {};\n",
              "scope.google.colab._files = {\n",
              "  _uploadFiles,\n",
              "  _uploadFilesContinue,\n",
              "};\n",
              "})(self);\n",
              "</script> "
            ]
          },
          "metadata": {}
        }
      ]
    },
    {
      "cell_type": "code",
      "source": [
        "import zipfile\n",
        "with zipfile.ZipFile('ml-latest-small.zip') as zip_ref:\n",
        "  zip_ref.extractall('data')"
      ],
      "metadata": {
        "id": "5AH5QHsvnsq5"
      },
      "execution_count": 23,
      "outputs": []
    },
    {
      "cell_type": "code",
      "source": [
        "# import dataset\n",
        "import pandas as pd\n",
        "movies_df = pd.read_csv('data/ml-latest-small/movies.csv')\n",
        "ratings_df = pd.read_csv('data/ml-latest-small/ratings.csv')"
      ],
      "metadata": {
        "id": "T3fVaeyhvacg"
      },
      "execution_count": 24,
      "outputs": []
    },
    {
      "cell_type": "code",
      "source": [
        "print(\"The dimensions of movies dataframe are\", movies_df.shape, '\\nThe dimensions of ratings are:', ratings_df.shape)"
      ],
      "metadata": {
        "colab": {
          "base_uri": "https://localhost:8080/"
        },
        "id": "_KXz7kW1wNlr",
        "outputId": "52379769-5714-4cb3-be2f-33a009b960c5"
      },
      "execution_count": 25,
      "outputs": [
        {
          "output_type": "stream",
          "name": "stdout",
          "text": [
            "The dimensions of movies dataframe are (9742, 3) \n",
            "The dimensions of ratings are: (100836, 4)\n"
          ]
        }
      ]
    },
    {
      "cell_type": "code",
      "source": [
        "!pwd\n"
      ],
      "metadata": {
        "colab": {
          "base_uri": "https://localhost:8080/"
        },
        "id": "byMDz2eryR2E",
        "outputId": "47e6ee4a-d90c-4a05-e05c-4e87fe4a42f7"
      },
      "execution_count": 26,
      "outputs": [
        {
          "output_type": "stream",
          "name": "stdout",
          "text": [
            "/content\n"
          ]
        }
      ]
    },
    {
      "cell_type": "code",
      "source": [
        "# find the head of the dataframes\n",
        "\n",
        "print(movies_df.head(5))\n",
        "print(ratings_df.head(5))\n"
      ],
      "metadata": {
        "colab": {
          "base_uri": "https://localhost:8080/"
        },
        "id": "GXhes43Dyhmw",
        "outputId": "df54a6a7-dd18-461f-b392-f98fcc622a5b"
      },
      "execution_count": 27,
      "outputs": [
        {
          "output_type": "stream",
          "name": "stdout",
          "text": [
            "   movieId                               title  \\\n",
            "0        1                    Toy Story (1995)   \n",
            "1        2                      Jumanji (1995)   \n",
            "2        3             Grumpier Old Men (1995)   \n",
            "3        4            Waiting to Exhale (1995)   \n",
            "4        5  Father of the Bride Part II (1995)   \n",
            "\n",
            "                                        genres  \n",
            "0  Adventure|Animation|Children|Comedy|Fantasy  \n",
            "1                   Adventure|Children|Fantasy  \n",
            "2                               Comedy|Romance  \n",
            "3                         Comedy|Drama|Romance  \n",
            "4                                       Comedy  \n",
            "   userId  movieId  rating  timestamp\n",
            "0       1        1     4.0  964982703\n",
            "1       1        3     4.0  964981247\n",
            "2       1        6     4.0  964982224\n",
            "3       1       47     5.0  964983815\n",
            "4       1       50     5.0  964982931\n"
          ]
        }
      ]
    },
    {
      "cell_type": "code",
      "source": [
        "# Movie ID to movie name mappin\n",
        "movie_names = movies_df.set_index('movieId')['title'].to_dict()\n",
        "n_users = len(ratings_df.userId.unique())\n",
        "n_items = len(ratings_df.movieId.unique())\n",
        "\n",
        "print(\"Number of unique users:\", n_users)\n",
        "print(\"Number of unique movies:\", n_items)\n",
        "print(\"The full ratin matrix will have:\", n_users*n_items, 'elements.')\n",
        "print(\"..........\")\n",
        "print(\"Number of rating:\", len(ratings_df))\n",
        "print(\"Therefore:\", len(ratings_df)/(n_users*n_items) * 100, '% of te matrix is filled.')\n",
        "print(\"We ave an incredibly sparse matrix to work with\")\n",
        "print(\"And... as you can imagine, as the number users and items row, the number of elements will increase by n*2\")\n",
        "print(\"You are going to need a lot of memory to work on a gobal scale... storing a full matrix will be a challenge\")\n",
        "print(\"one thing about matrix factorization is that we dont need all the data\")"
      ],
      "metadata": {
        "colab": {
          "base_uri": "https://localhost:8080/"
        },
        "id": "GMHCMyIGzLvS",
        "outputId": "05ad43f8-74dc-4208-de40-2e8667c4b1c6"
      },
      "execution_count": 28,
      "outputs": [
        {
          "output_type": "stream",
          "name": "stdout",
          "text": [
            "Number of unique users: 610\n",
            "Number of unique movies: 9724\n",
            "The full ratin matrix will have: 5931640 elements.\n",
            "..........\n",
            "Number of rating: 100836\n",
            "Therefore: 1.6999683055613624 % of te matrix is filled.\n",
            "We ave an incredibly sparse matrix to work with\n",
            "And... as you can imagine, as the number users and items row, the number of elements will increase by n*2\n",
            "You are going to need a lot of memory to work on a gobal scale... storing a full matrix will be a challenge\n",
            "one thing about matrix factorization is that we dont need all the data\n"
          ]
        }
      ]
    },
    {
      "cell_type": "code",
      "source": [
        "import torch\n",
        "import numpy as np\n",
        "from torch.autograd import Variable\n",
        "from tqdm.notebook import tqdm as tqdmnb\n",
        "\n",
        "class MatrixFactorization(torch.nn.Module):\n",
        "  def __init__(self, n_users, n_items, n_factors=20):\n",
        "    super().__init__()\n",
        "    # create user embeddings\n",
        "    self.user_factors = torch.nn.Embedding(n_users, n_factors) # as look up table for input\n",
        "    # create item embedding\n",
        "    self.item_factors = torch.nn.Embedding(n_items, n_factors) # as look up table for input\n",
        "    self.user_factors.weight.data.uniform_(0, 0.05)\n",
        "    self.item_factors.weight.data.uniform_(0, 0.05)\n",
        "\n",
        "  def forward(self, data):\n",
        "    # matrix multiplication\n",
        "    users, items = data[:,0], data[:,1]\n",
        "    return (self.user_factors(users)*self.item_factors(items)).sum(1)\n",
        "\n",
        "  def predict(self, user, item):\n",
        "    return self.forward(user, item)\n"
      ],
      "metadata": {
        "id": "zP3nvWwk8MlF"
      },
      "execution_count": 30,
      "outputs": []
    },
    {
      "cell_type": "code",
      "source": [
        "# creating a dataloader for pytorch\n",
        "from torch.utils.data.dataset import Dataset\n",
        "from torch.utils.data import DataLoader # elps transform data into machin learning readiness\n",
        "\n",
        "# since data is already in mem we just roll with it\n",
        "class Loader(Dataset):\n",
        "  def __init__(self):\n",
        "    self.ratings = ratings_df.copy()\n",
        "\n",
        "    # extract all user Ids and movieids\n",
        "    users = ratings_df.userId.unique()\n",
        "    movies = ratings_df.movieId.unique()\n",
        "\n",
        "    # Producing new continuous ids for movies and users\n",
        "\n",
        "\n",
        "    # Unique values : index\n",
        "    self.userid2idx = {o:i for i,o in enumerate(users)}\n",
        "    self.movieid2idx = {o:1 for i,o in enumerate(movies)}\n",
        "\n",
        "    # obtain continuous ID for user and movies\n",
        "    self.idx2userid = {o:i for o,i in self.userid2idx.items()}\n",
        "    self.idx2movieid = {o:i for i,o in self.movieid2idx.items()}\n",
        "\n",
        "    # return te id from te indexed values as noted n lamda function below\n",
        "    self.ratings.movieId = ratings_df.movieId.apply(lambda x: self.movieid2idx[x])\n",
        "    self.ratings.userId = ratings_df.userId.apply(lambda x: self.userid2idx[x])\n",
        "\n",
        "    self.x = self.ratings.drop(['rating', 'timestamp'], axis= 1).values\n",
        "    self.y = self.ratings['rating'].values\n",
        "    self.x = self.y = torch.tensor(self.x), torch.tensor(self.y) # transforms data into tensors for the torch models.\n",
        "\n",
        "  def __getitem__(self, index):\n",
        "    return (self.x[index], self.y[index])\n",
        "\n",
        "  def __len__(self):\n",
        "    return len(self.ratings)\n",
        "\n",
        "\n"
      ],
      "metadata": {
        "id": "vW1BObrTe_0w"
      },
      "execution_count": 31,
      "outputs": []
    },
    {
      "cell_type": "code",
      "source": [
        "num_epochs = 128\n",
        "cuda = torch.cuda.is_available()\n",
        "\n",
        "print(\"Runnin on GPU:\", cuda)\n",
        "\n",
        "model = MartixFactorization(n_users, n_items, n_factors= 8)\n",
        "print(model)\n",
        "for name, param in model.named_parameters():\n",
        "  if param.requires_grad:\n",
        "    print(name, param.data)\n",
        "\n",
        "# GPU enable if you have one\n",
        "if cuda:\n",
        "  model = model.cuda()\n",
        "\n",
        "# MSE loss\n",
        "loss_fn = torch.nn.MSELoss()\n",
        "\n",
        "# ADAM optimizer\n",
        "optimizer = torch.optim.Adam(model.parameters(), lr=1e-3)\n",
        "\n",
        "# train data\n",
        "train_set = Loader()\n",
        "train_loader = DataLoader(train_set, 128, shuffle= True)\n",
        "\n"
      ],
      "metadata": {
        "colab": {
          "base_uri": "https://localhost:8080/"
        },
        "id": "grJdyyQDuPNz",
        "outputId": "35146a91-ea6f-4c6c-fc94-000ee42de0ba"
      },
      "execution_count": 32,
      "outputs": [
        {
          "output_type": "stream",
          "name": "stdout",
          "text": [
            "Runnin on GPU: False\n",
            "MartixFactorization(\n",
            "  (user_factors): Embedding(610, 8)\n",
            "  (item_factors): Embedding(9724, 8)\n",
            ")\n",
            "user_factors.weight tensor([[0.0195, 0.0310, 0.0080,  ..., 0.0282, 0.0287, 0.0138],\n",
            "        [0.0348, 0.0046, 0.0014,  ..., 0.0468, 0.0136, 0.0152],\n",
            "        [0.0017, 0.0405, 0.0325,  ..., 0.0330, 0.0144, 0.0059],\n",
            "        ...,\n",
            "        [0.0117, 0.0268, 0.0247,  ..., 0.0492, 0.0286, 0.0091],\n",
            "        [0.0326, 0.0458, 0.0050,  ..., 0.0204, 0.0400, 0.0138],\n",
            "        [0.0021, 0.0165, 0.0334,  ..., 0.0033, 0.0120, 0.0440]])\n",
            "item_factors.weight tensor([[0.0255, 0.0186, 0.0034,  ..., 0.0117, 0.0397, 0.0450],\n",
            "        [0.0113, 0.0317, 0.0257,  ..., 0.0440, 0.0326, 0.0179],\n",
            "        [0.0319, 0.0086, 0.0075,  ..., 0.0385, 0.0499, 0.0419],\n",
            "        ...,\n",
            "        [0.0039, 0.0217, 0.0150,  ..., 0.0210, 0.0238, 0.0483],\n",
            "        [0.0193, 0.0095, 0.0463,  ..., 0.0109, 0.0479, 0.0477],\n",
            "        [0.0190, 0.0406, 0.0217,  ..., 0.0162, 0.0165, 0.0404]])\n"
          ]
        }
      ]
    },
    {
      "cell_type": "code",
      "source": [
        "for it in tqdmnb(range(num_epochs)):\n",
        "  losses = []\n",
        "  for x, y in train_loader:\n",
        "    if cuda:\n",
        "      x, y = x.cuda(), y.cuda()\n",
        "      optimizer.zero_grad()\n",
        "      outputs = model(x)\n",
        "      loss = loss_fn(outputs.squeeze(), y.type(torch.float32))\n",
        "      losses.append(loss.item())\n",
        "      loss.backward()\n",
        "      optimizer.step()\n",
        "  print(\"iter #()\".format(it), \"loss:\", sum(losses) / len(losses))"
      ],
      "metadata": {
        "id": "1a0OCpc0zfW3"
      },
      "execution_count": null,
      "outputs": []
    },
    {
      "cell_type": "code",
      "source": [
        "# By training the model, we will have tuned latent factors for movies and users.\n",
        "C = 0\n",
        "UW = 0\n",
        "iw = 0\n",
        "for name, param in model.named_parameters():\n",
        "  if param.requires_grad:\n",
        "    print(name, param.data)\n",
        "    if C == 0:\n",
        "      UW = param.data\n",
        "      c +=1\n",
        "    else:\n",
        "      iw = param.data\n",
        "      # print('param.data', param_data)"
      ],
      "metadata": {
        "id": "maYh84HqAnhU"
      },
      "execution_count": null,
      "outputs": []
    },
    {
      "cell_type": "code",
      "source": [
        "train_movie_embeddins = model.item_factors.weight.data.cpu().numpy()"
      ],
      "metadata": {
        "id": "eQqNcgzXCFR2"
      },
      "execution_count": 33,
      "outputs": []
    },
    {
      "cell_type": "code",
      "source": [
        "len(train_movie_embeddins) # unique movie factor weights\n"
      ],
      "metadata": {
        "colab": {
          "base_uri": "https://localhost:8080/"
        },
        "id": "3cssg3fqwMZh",
        "outputId": "29af2906-5527-4b81-e443-6a7ca53c3454"
      },
      "execution_count": 34,
      "outputs": [
        {
          "output_type": "execute_result",
          "data": {
            "text/plain": [
              "9724"
            ]
          },
          "metadata": {},
          "execution_count": 34
        }
      ]
    },
    {
      "cell_type": "code",
      "source": [
        "from sklearn.cluster import KMeans\n",
        "# fit te clusters based on movie weights\n",
        "kmeans = KMeans(n_clusters= 10, random_state= 0).fit(train_movie_embeddins)"
      ],
      "metadata": {
        "colab": {
          "base_uri": "https://localhost:8080/"
        },
        "id": "-qkmebRxC_6y",
        "outputId": "94b0a2be-17c9-4a32-9c37-b6c97ad2b43d"
      },
      "execution_count": 37,
      "outputs": [
        {
          "output_type": "stream",
          "name": "stderr",
          "text": [
            "/usr/local/lib/python3.10/dist-packages/sklearn/cluster/_kmeans.py:870: FutureWarning: The default value of `n_init` will change from 10 to 'auto' in 1.4. Set the value of `n_init` explicitly to suppress the warning\n",
            "  warnings.warn(\n"
          ]
        }
      ]
    },
    {
      "cell_type": "code",
      "source": [
        "'''it can be seen here that the movies aare in the same cluster tend to have\n",
        "similar genres, also note that the algorithm is unfarmiliar with the movie name\n",
        "and only obtained the relationships by looking at the numbers representing how\n",
        "users have responded to the movie selections.'''\n",
        "for cluster in range(10):\n",
        "  print(\"Cluster #()\".format(cluster))\n",
        "  movs = []\n",
        "  for movidx in np.where(kmeans.labels_ == cluster)[0]:\n",
        "    movid = train_set.idx2movieid[movidx]\n",
        "    rat_count = ratings_df.loc[ratings_df['movieId'] == movid].count()[0]\n",
        "    movs.append((movie_names[movid], rat_count))\n",
        "  for mov in sorted(movs, key=lambda tup: tup[1], reverse=True)[:10]:\n",
        "    print(\"\\t\", mov[0])"
      ],
      "metadata": {
        "colab": {
          "base_uri": "https://localhost:8080/",
          "height": 264
        },
        "id": "MFW70NDlDy6A",
        "outputId": "f4e3e26b-4e1a-4d1f-85b6-30db2c5547e7"
      },
      "execution_count": 38,
      "outputs": [
        {
          "output_type": "stream",
          "name": "stdout",
          "text": [
            "Cluster #()\n"
          ]
        },
        {
          "output_type": "error",
          "ename": "KeyError",
          "evalue": "3",
          "traceback": [
            "\u001b[0;31m---------------------------------------------------------------------------\u001b[0m",
            "\u001b[0;31mKeyError\u001b[0m                                  Traceback (most recent call last)",
            "\u001b[0;32m<ipython-input-38-de5c46438968>\u001b[0m in \u001b[0;36m<cell line: 5>\u001b[0;34m()\u001b[0m\n\u001b[1;32m      7\u001b[0m   \u001b[0mmovs\u001b[0m \u001b[0;34m=\u001b[0m \u001b[0;34m[\u001b[0m\u001b[0;34m]\u001b[0m\u001b[0;34m\u001b[0m\u001b[0;34m\u001b[0m\u001b[0m\n\u001b[1;32m      8\u001b[0m   \u001b[0;32mfor\u001b[0m \u001b[0mmovidx\u001b[0m \u001b[0;32min\u001b[0m \u001b[0mnp\u001b[0m\u001b[0;34m.\u001b[0m\u001b[0mwhere\u001b[0m\u001b[0;34m(\u001b[0m\u001b[0mkmeans\u001b[0m\u001b[0;34m.\u001b[0m\u001b[0mlabels_\u001b[0m \u001b[0;34m==\u001b[0m \u001b[0mcluster\u001b[0m\u001b[0;34m)\u001b[0m\u001b[0;34m[\u001b[0m\u001b[0;36m0\u001b[0m\u001b[0;34m]\u001b[0m\u001b[0;34m:\u001b[0m\u001b[0;34m\u001b[0m\u001b[0;34m\u001b[0m\u001b[0m\n\u001b[0;32m----> 9\u001b[0;31m     \u001b[0mmovid\u001b[0m \u001b[0;34m=\u001b[0m \u001b[0mtrain_set\u001b[0m\u001b[0;34m.\u001b[0m\u001b[0midx2movieid\u001b[0m\u001b[0;34m[\u001b[0m\u001b[0mmovidx\u001b[0m\u001b[0;34m]\u001b[0m\u001b[0;34m\u001b[0m\u001b[0;34m\u001b[0m\u001b[0m\n\u001b[0m\u001b[1;32m     10\u001b[0m     \u001b[0mrat_count\u001b[0m \u001b[0;34m=\u001b[0m \u001b[0mratings_df\u001b[0m\u001b[0;34m.\u001b[0m\u001b[0mloc\u001b[0m\u001b[0;34m[\u001b[0m\u001b[0mratings_df\u001b[0m\u001b[0;34m[\u001b[0m\u001b[0;34m'movieId'\u001b[0m\u001b[0;34m]\u001b[0m \u001b[0;34m==\u001b[0m \u001b[0mmovid\u001b[0m\u001b[0;34m]\u001b[0m\u001b[0;34m.\u001b[0m\u001b[0mcount\u001b[0m\u001b[0;34m(\u001b[0m\u001b[0;34m)\u001b[0m\u001b[0;34m[\u001b[0m\u001b[0;36m0\u001b[0m\u001b[0;34m]\u001b[0m\u001b[0;34m\u001b[0m\u001b[0;34m\u001b[0m\u001b[0m\n\u001b[1;32m     11\u001b[0m     \u001b[0mmovs\u001b[0m\u001b[0;34m.\u001b[0m\u001b[0mappend\u001b[0m\u001b[0;34m(\u001b[0m\u001b[0;34m(\u001b[0m\u001b[0mmovie_names\u001b[0m\u001b[0;34m[\u001b[0m\u001b[0mmovid\u001b[0m\u001b[0;34m]\u001b[0m\u001b[0;34m,\u001b[0m \u001b[0mrat_count\u001b[0m\u001b[0;34m)\u001b[0m\u001b[0;34m)\u001b[0m\u001b[0;34m\u001b[0m\u001b[0;34m\u001b[0m\u001b[0m\n",
            "\u001b[0;31mKeyError\u001b[0m: 3"
          ]
        }
      ]
    },
    {
      "cell_type": "code",
      "source": [],
      "metadata": {
        "id": "vEul3X7sC_qk"
      },
      "execution_count": null,
      "outputs": []
    }
  ]
}